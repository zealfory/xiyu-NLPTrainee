{
 "cells": [
  {
   "cell_type": "markdown",
   "metadata": {},
   "source": [
    "### 2019-07-08"
   ]
  },
  {
   "cell_type": "markdown",
   "metadata": {},
   "source": [
    "#### problem 5.1 复原IP地址\n",
    "给定一个只包含数字的字符串，复原它并返回所有可能的IP地址格式。"
   ]
  },
  {
   "cell_type": "code",
   "execution_count": 47,
   "metadata": {},
   "outputs": [
    {
     "name": "stdout",
     "output_type": "stream",
     "text": [
      "['255.255.11.135', '255.255.111.35']\n"
     ]
    }
   ],
   "source": [
    "class Solution:\n",
    "    def restoreIpAddresses(self, s: str):\n",
    "        \"\"\"\n",
    "        :params s: str\n",
    "        :return: List[str]\n",
    "        \"\"\"\n",
    "        \n",
    "        s_len = len(s)\n",
    "        # 最终IP地址列表 & .分割的每一小块列表\n",
    "        ans, segments = [], []\n",
    "        \n",
    "        # 验证是否是有效IP，不大于255，不以0开头（单独一位0除外）\n",
    "        def valid(segment):\n",
    "            if segment[0] != '0':\n",
    "                return int(segment) <= 255\n",
    "            elif len(segment) == 1:\n",
    "                return True\n",
    "            else:\n",
    "                return False\n",
    "  \n",
    "                \n",
    "        # 回溯函数\n",
    "        def backtrack(prev_pos = -1, dots = 3):\n",
    "            # 遍历当前位置到其之后3个位置的切片\n",
    "            for curr_pos in range(prev_pos + 1, min(s_len - 1, prev_pos + 4)):\n",
    "                segment = s[prev_pos + 1: curr_pos + 1]\n",
    "                if valid(segment):\n",
    "                    segments.append(segment)\n",
    "                    # 放置最后一个.,更新IP列表\n",
    "                    if dots == 1:\n",
    "                        segment = s[curr_pos + 1: s_len]\n",
    "                        if valid(segment):\n",
    "                            segments.append(segment)\n",
    "                            ans.append('.'.join(segments))\n",
    "                            segments.pop()\n",
    "                    # 回溯\n",
    "                    else:\n",
    "                        backtrack(curr_pos, dots - 1)\n",
    "                    segments.pop()\n",
    "        backtrack()\n",
    "        return ans\n",
    "    \n",
    "# Test\n",
    "a = Solution()\n",
    "print(a.restoreIpAddresses(\"25525511135\"))"
   ]
  },
  {
   "cell_type": "code",
   "execution_count": 48,
   "metadata": {},
   "outputs": [
    {
     "name": "stdout",
     "output_type": "stream",
     "text": [
      "['255.255.11.135', '255.255.111.35']\n"
     ]
    }
   ],
   "source": [
    "class Solution(object):\n",
    "    def restoreIpAddresses(self, s):\n",
    "        \"\"\"\n",
    "        :params s: str\n",
    "        :return list[str]\n",
    "        \"\"\"\n",
    "        res = []\n",
    "        def dfs(s, segment, res, ip):\n",
    "            # 已分割4部分，返回结果\n",
    "            if segment == 4:\n",
    "                if s == '':\n",
    "                    res.append(ip[1:])\n",
    "                return\n",
    "            # 否则，考察当前字符后3位\n",
    "            for i in range(1,4):               \n",
    "                if i <= len(s):\n",
    "                    if int(s[:i]) <= 255:\n",
    "                        # 回溯\n",
    "                        dfs(s[i:],segment + 1,res, ip+'.'+s[:i])\n",
    "                        if s[0] == '0':\n",
    "                            break\n",
    "        \n",
    "        dfs(s, 0, res, '')#segment 初始化为0\n",
    "        return res\n",
    "\n",
    "S= Solution()\n",
    "s= \"25525511135\"\n",
    "print(S.restoreIpAddresses(s))"
   ]
  },
  {
   "cell_type": "markdown",
   "metadata": {},
   "source": [
    "#### problem 5.2 验证IP地址\n",
    "编写一个函数来验证输入的字符串是否是有效的 IPv4 或 IPv6 地址。<br>\n",
    "IPv4 地址由十进制数和点来表示，每个地址包含4个十进制数，其范围为 0 - 255， 用(\".\")分割。比如，172.16.254.1；<br>\n",
    "同时，IPv4 地址内的数不会以 0 开头。比如，地址 172.16.254.01 是不合法的。<br>\n",
    "IPv6 地址由8组16进制的数字来表示，每组表示 16 比特。这些组数字通过 (\":\")分割。<br>\n",
    "比如,  2001:0db8:85a3:0000:0000:8a2e:0370:7334 是一个有效的地址。<br>\n",
    "而且，我们可以加入一些以 0 开头的数字，字母可以使用大写，也可以是小写。<br>\n",
    "所以， 2001:db8:85a3:0:0:8A2E:0370:7334 也是一个有效的 IPv6 address地址 (即，忽略 0 开头，忽略大小写)。<br>\n",
    "然而，我们不能因为某个组的值为 0，而使用一个空的组，以至于出现 (::) 的情况。 比如， 2001:0db8:85a3::8A2E:0370:7334 是无效的 IPv6 地址。<br>\n",
    "同时，在 IPv6 地址中，多余的 0 也是不被允许的。比如， 02001:0db8:85a3:0000:0000:8a2e:0370:7334 是无效的。<br>\n",
    "说明: 可以认为给定的字符串里没有空格或者其他特殊字符。<br>"
   ]
  },
  {
   "cell_type": "code",
   "execution_count": 49,
   "metadata": {},
   "outputs": [
    {
     "name": "stdout",
     "output_type": "stream",
     "text": [
      "IPv4\n",
      "IPv6\n",
      "Neither\n"
     ]
    }
   ],
   "source": [
    "class Solution:\n",
    "    def validIPAddress(self, IP: str):\n",
    "        \"\"\"\n",
    "        :params s:str\n",
    "        :return \"IPv4\",\"IPv6\",\"Neither\"\n",
    "        \"\"\"\n",
    "        ans = \"\"\n",
    "        \n",
    "        def validIPv4(ip):\n",
    "            \"\"\"Checking IPv4 or not\"\"\"\n",
    "            ans = \"IPv4\"\n",
    "            ip_l = ip.split('.')\n",
    "            if len(ip_l) != 4:\n",
    "                ans = \"Neither\"\n",
    "            else:\n",
    "                for i in ip_l:\n",
    "                    if 0 <= len(i) <= 3:\n",
    "                        for item in i:\n",
    "                            if item in ('','0','1','2','3','4','5','6','7','8','9'):\n",
    "                                continue\n",
    "                            else:\n",
    "                                ans = \"Neither\"\n",
    "                        try:\n",
    "                            if (len(i) > 0 and i[0] != '0' and int(i) <= 255) or len(i) == 1:\n",
    "                                continue\n",
    "                            else:\n",
    "                                ans = \"Neither\"\n",
    "                        except ValueError:\n",
    "                            ans = \"Neither\"\n",
    "                    else:\n",
    "                        ans = \"Neither\"\n",
    "            return ans\n",
    "        \n",
    "        def validIPv6(ip):\n",
    "            \"\"\"Checking IPv6 or not\"\"\"\n",
    "            ans = \"IPv6\"\n",
    "            ip_l = ip.split(':')\n",
    "            if len(ip_l) != 8:\n",
    "                ans = \"Neither\"\n",
    "            else:\n",
    "                for i in ip_l:\n",
    "                    if 0 < len(i) <= 4:\n",
    "                        for item in i:\n",
    "                            if item in ('0','1','2','3','4','5','6','7','8','9',\n",
    "                                        'a','b','c','d','e','f','A','B','C','D','E','F'):\n",
    "                                continue\n",
    "                            else:\n",
    "                                ans = \"Neither\"\n",
    "                    else:\n",
    "                        ans = \"Neither\"\n",
    "            return ans\n",
    "        \n",
    "        if IP.find('.') != -1:\n",
    "            ans = validIPv4(IP)\n",
    "        else:\n",
    "            ans = validIPv6(IP)\n",
    "        return ans\n",
    "\n",
    "# Test\n",
    "a = Solution()\n",
    "print(a.validIPAddress(\"172.16.254.1\"))\n",
    "print(a.validIPAddress(\"2001:0db8:85a3:0:0:8A2E:0370:7334\"))\n",
    "print(a.validIPAddress(\"256.256.256.256\"))"
   ]
  },
  {
   "cell_type": "markdown",
   "metadata": {},
   "source": [
    "#### problem 5.3 中文处理之年份转换\n",
    "给定一个字符串，实现中文匹配与年份转换\n",
    "例如：一九四九--->1949"
   ]
  },
  {
   "cell_type": "code",
   "execution_count": 50,
   "metadata": {},
   "outputs": [
    {
     "name": "stdout",
     "output_type": "stream",
     "text": [
      "1949年\n",
      "在1949年新中国成立\n",
      "比1990年低百分之五点二\n",
      "人1996年击败俄军，取得实质独立\n"
     ]
    }
   ],
   "source": [
    "import re\n",
    "\n",
    "def Year2Num(s):\n",
    "    \"\"\"\n",
    "    :params s: str\n",
    "    :return str\n",
    "    \"\"\"\n",
    "    def Change2Num(words):\n",
    "\n",
    "        mapping = {'零':'0','一':'1', '二':'2', '三':'3',\n",
    "              '四':'4','五':'5', '六':'6', '七':'7',\n",
    "              '八':'8', '九':'9' }\n",
    "\n",
    "        newword = ''\n",
    "        for i in words:\n",
    "            if i in mapping:\n",
    "                newword += mapping[i]\n",
    "            else:\n",
    "                newword += i\n",
    "        return newword\n",
    "    # 正则表达式：[**+年]\n",
    "    pattern = u\"[\\u96f6|\\u4e00|\\u4e8c|\\u4e09|\\u56db|\\u4e94|\\u516d|\\u4e03|\\u516b|\\u4e5d]+\\u5e74\"\n",
    "    a = re.findall(pattern, s)\n",
    "    if a:\n",
    "        for words in a:\n",
    "            newwords = Change2Num(words)\n",
    "            s = s.replace(words, newwords)\n",
    "    return s\n",
    "\n",
    "# Test\n",
    "print(Year2Num(\"一九四九年\"))\n",
    "print(Year2Num(\"在一九四九年新中国成立\"))\n",
    "print(Year2Num(\"比一九九零年低百分之五点二\"))\n",
    "print(Year2Num('人一九九六年击败俄军，取得实质独立'))"
   ]
  },
  {
   "cell_type": "markdown",
   "metadata": {},
   "source": [
    "#### problem 5.4 Pandas基础\n",
    "1. 从series中找出包含两个以上元音字母的单词\n",
    "2. 如何过滤series中的有效电子邮件"
   ]
  },
  {
   "cell_type": "code",
   "execution_count": 51,
   "metadata": {},
   "outputs": [
    {
     "name": "stdout",
     "output_type": "stream",
     "text": [
      "1    Orange\n",
      "4     Money\n",
      "dtype: object\n",
      "['shine@egypt.com', 'abc@t.co', 'iou@modi.com']\n"
     ]
    }
   ],
   "source": [
    "# 1.\n",
    "import pandas as pd\n",
    "import re\n",
    "ser = pd.Series(['Apple', 'Orange', 'Plan', 'Python', 'Money'])\n",
    "\n",
    "def count(x):\n",
    "    vowels = 'aeiou'\n",
    "    c = 0\n",
    "    for i in x:\n",
    "        if i in vowels:\n",
    "            c += 1\n",
    "    return c\n",
    "\n",
    "print(ser[ser.map(lambda x: count(x)) >= 2])\n",
    "\n",
    "# 2.\n",
    "emails = pd.Series(['buying books at amazom.com', \n",
    "                    'shine@egypt.com', \n",
    "                    'abc@t.co',\n",
    "                    'iou@modi.com'])\n",
    "pattern ='[A-Za-z0-9._%+-]+@[A-Za-z0-9.-]+\\\\.[A-Za-z]{2,4}'\n",
    "valid = emails.str.findall(pattern, flags=re.IGNORECASE)\n",
    "print([x[0] for x in valid if len(x)])"
   ]
  }
 ],
 "metadata": {
  "kernelspec": {
   "display_name": "Python 3",
   "language": "python",
   "name": "python3"
  },
  "language_info": {
   "codemirror_mode": {
    "name": "ipython",
    "version": 3
   },
   "file_extension": ".py",
   "mimetype": "text/x-python",
   "name": "python",
   "nbconvert_exporter": "python",
   "pygments_lexer": "ipython3",
   "version": "3.6.5"
  }
 },
 "nbformat": 4,
 "nbformat_minor": 2
}
