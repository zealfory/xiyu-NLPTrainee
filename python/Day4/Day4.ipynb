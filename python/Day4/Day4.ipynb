{
 "cells": [
  {
   "cell_type": "markdown",
   "metadata": {},
   "source": [
    "### 2019-07-04"
   ]
  },
  {
   "cell_type": "markdown",
   "metadata": {},
   "source": [
    "#### problem 4.1 重复的子字符串\n",
    "给定一个非空的字符串，判断它是否可以由它的一个子串重复多次构成。给定的字符串只含有小写英文字母，并且长度不超过10000。"
   ]
  },
  {
   "cell_type": "code",
   "execution_count": 7,
   "metadata": {},
   "outputs": [
    {
     "name": "stdout",
     "output_type": "stream",
     "text": [
      "True\n",
      "False\n"
     ]
    }
   ],
   "source": [
    "def repeatedSubstringPattern(s):\n",
    "    \"\"\"\n",
    "    :params s: str\n",
    "    :return boolean\n",
    "    \"\"\"\n",
    "    s_len = len(s)\n",
    "    for i in range(1, s_len//2 + 1):\n",
    "        # 检验是否整除\n",
    "        if s_len % i==0:\n",
    "            j = i\n",
    "            # 未到达尾端且剩余部分以当前子串开头，移动检验起始位置\n",
    "            while j < s_len and s[j:j+i]==s[:i]:\n",
    "                j += i\n",
    "            # 到达字符串尾端，返回True\n",
    "            if j == s_len:\n",
    "                return True\n",
    " \n",
    "    return False\n",
    "\n",
    "# Test\n",
    "print(repeatedSubstringPattern(\"abab\"))\n",
    "print(repeatedSubstringPattern(\"aba\"))"
   ]
  },
  {
   "cell_type": "markdown",
   "metadata": {},
   "source": [
    "#### problem 4.2 Z字形变换\n",
    "将一个给定字符串根据给定的行数，以从上往下、从左到右进行Z字形排列。\n",
    "输出需要从左往右逐行读取，产生出一个新的字符串。\n",
    "请实现这个将字符串进行指定行数变换的函数string convert(string s, int numRows)"
   ]
  },
  {
   "cell_type": "code",
   "execution_count": 15,
   "metadata": {},
   "outputs": [
    {
     "name": "stdout",
     "output_type": "stream",
     "text": [
      "LCIRETOESIIGEDHN\n",
      "LDREOEIIECIHNTSG\n"
     ]
    }
   ],
   "source": [
    "def convertToZ(s, num_rows):\n",
    "    \"\"\"\n",
    "    :params s: str, num_rows: int\n",
    "    :return str\n",
    "    \"\"\"\n",
    "    \n",
    "    s_len = len(s)\n",
    "    if num_rows == 1 or num_rows >= s_len:\n",
    "        return s\n",
    "    s_rows = [\"\"] * num_rows # 存放Z字符的矩阵\n",
    "    i  = 0\n",
    "    while i < s_len:\n",
    "        # Z字形向下排列字符的过程\n",
    "        for j in range(num_rows):\n",
    "            if i < s_len:\n",
    "                s_rows[j] += s[i]\n",
    "                i += 1\n",
    "        # Z字形向斜右上方排列字符的过程\n",
    "        for j in range(num_rows - 2, 0, -1):\n",
    "            if i < s_len:\n",
    "                s_rows[j] += s[i]\n",
    "                i += 1\n",
    "    return \"\".join(s_rows)\n",
    "\n",
    "\n",
    "print(convertToZ(\"LEETCODEISHIRING\", 3))\n",
    "print(convertToZ(\"LEETCODEISHIRING\", 4))"
   ]
  },
  {
   "cell_type": "markdown",
   "metadata": {},
   "source": [
    "#### problem 4.3 不同的子序列\n",
    "给定一个字符串S和一个字符串T，计算在S的子序列中T出现的个数。\n",
    "一个字符串的一个子序列是指，通过删除一些（也可以不删除）字符且不干扰剩余字符相对位置所组成的新字符串。"
   ]
  },
  {
   "cell_type": "code",
   "execution_count": 27,
   "metadata": {},
   "outputs": [
    {
     "name": "stdout",
     "output_type": "stream",
     "text": [
      "3\n",
      "5\n"
     ]
    }
   ],
   "source": [
    "def numOfDistinct(s, t):\n",
    "    \"\"\"\n",
    "    :params s: str, t:str\n",
    "    :return int\n",
    "    \"\"\"\n",
    "    t_len = len(t)\n",
    "    s_len = len(s)\n",
    "    # 动态矩阵\n",
    "    dp = [[0 for i in range(s_len + 1)] for i in range(t_len + 1)]\n",
    "\n",
    "    for j in range(s_len + 1):\n",
    "        dp[0][j] = 1\n",
    "\n",
    "    for i in range(1, t_len + 1):\n",
    "        for j in range(1, s_len + 1):\n",
    "            if t[i - 1] == s[j - 1]:\n",
    "                dp[i][j] = dp[i - 1][j - 1]  + dp[i][j - 1]\n",
    "                #print(dp)\n",
    "            else:\n",
    "                dp[i][j] = dp[i][j - 1]\n",
    "    return dp[-1][-1]\n",
    "                \n",
    "# Test\n",
    "print(numOfDistinct(\"rabbbit\", \"rabbit\"))\n",
    "print(numOfDistinct(\"babgbag\", \"bag\"))\n",
    "        "
   ]
  },
  {
   "cell_type": "markdown",
   "metadata": {},
   "source": [
    "#### problem 4.4 翻转单词顺序\n",
    "输入一个英文句子，翻转句子中单词的顺序，而单词中的字母顺序不变。（标点当作字母处理）"
   ]
  },
  {
   "cell_type": "code",
   "execution_count": 38,
   "metadata": {},
   "outputs": [
    {
     "name": "stdout",
     "output_type": "stream",
     "text": [
      "I am a student.\n"
     ]
    }
   ],
   "source": [
    "def reverseSentence(s):\n",
    "    \"\"\"\n",
    "    :params s: str\n",
    "    :return str\n",
    "    \"\"\"\n",
    "    s_new = \"\"\n",
    "    s_list = list(s.split(\" \"))\n",
    "    s_list.reverse()\n",
    "    return \" \".join(s_list)\n",
    "\n",
    "print(reverseSentence(\"student. a am I\"))"
   ]
  },
  {
   "cell_type": "markdown",
   "metadata": {},
   "source": [
    "#### problem 4.5 Pandas基础\n",
    "1. series如何将一日期字符串转换为时间\n",
    "2. series如何从时间序列中提取年/月/天/小时/分钟/秒"
   ]
  },
  {
   "cell_type": "code",
   "execution_count": 46,
   "metadata": {},
   "outputs": [
    {
     "name": "stdout",
     "output_type": "stream",
     "text": [
      "0   2019-07-03 11:23:00\n",
      "1   2011-01-01 23:09:07\n",
      "2   2100-09-08 15:08:56\n",
      "dtype: datetime64[ns]\n",
      "Year:\n",
      "0    2019\n",
      "1    2011\n",
      "2    2100\n",
      "dtype: int64\n",
      "Month:\n",
      "0    7\n",
      "1    1\n",
      "2    9\n",
      "dtype: int64\n",
      "Day:\n",
      "0    3\n",
      "1    1\n",
      "2    8\n",
      "dtype: int64\n",
      "Hour:\n",
      "0    11\n",
      "1    23\n",
      "2    15\n",
      "dtype: int64\n",
      "Minute:\n",
      "0    23\n",
      "1     9\n",
      "2     8\n",
      "dtype: int64\n",
      "Second:\n",
      "0     0\n",
      "1     7\n",
      "2    56\n",
      "dtype: int64\n"
     ]
    }
   ],
   "source": [
    "import pandas as pd\n",
    "# 1.\n",
    "series1 = pd.Series(['2019-07-03 11:23:00', '1 Jan 2011 23:09:07', '21000908 15:08:56'])\n",
    "date = pd.to_datetime(series1)\n",
    "print(date)\n",
    "# 2.\n",
    "print('Year:', date.dt.year, sep = '\\n')\n",
    "print('Month:', date.dt.month, sep = '\\n')\n",
    "print('Day:', date.dt.day, sep = '\\n')\n",
    "print('Hour:', date.dt.hour, sep = '\\n')\n",
    "print('Minute:', date.dt.minute, sep = '\\n')\n",
    "print('Second:', date.dt.second, sep = '\\n')"
   ]
  }
 ],
 "metadata": {
  "kernelspec": {
   "display_name": "Python 3",
   "language": "python",
   "name": "python3"
  },
  "language_info": {
   "codemirror_mode": {
    "name": "ipython",
    "version": 3
   },
   "file_extension": ".py",
   "mimetype": "text/x-python",
   "name": "python",
   "nbconvert_exporter": "python",
   "pygments_lexer": "ipython3",
   "version": "3.6.5"
  }
 },
 "nbformat": 4,
 "nbformat_minor": 2
}
