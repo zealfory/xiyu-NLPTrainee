{
 "cells": [
  {
   "cell_type": "markdown",
   "metadata": {},
   "source": [
    "### 2019-07-09"
   ]
  },
  {
   "cell_type": "markdown",
   "metadata": {},
   "source": [
    "#### problem 6.1 赎金信\n",
    "给定一个赎金信（ransom）字符串和一个杂志（magzine）字符串，判断第一个字符串ransom能不能由第二个字符串magazines里面的字符构成。如果可以构成，返回true；否则返回false。<br>\n",
    "说明：为了不暴露赎金信字迹，要从杂志上搜索各个需要的字母，组成单词来表达意思。"
   ]
  },
  {
   "cell_type": "code",
   "execution_count": 1,
   "metadata": {},
   "outputs": [
    {
     "name": "stdout",
     "output_type": "stream",
     "text": [
      "False\n",
      "False\n",
      "True\n"
     ]
    }
   ],
   "source": [
    "class Solution:\n",
    "    def canConstruct(self, ransomNote: str, magazine: str) -> bool:\n",
    "        for s in ransomNote:\n",
    "            index = magazine.find(s)\n",
    "            if index != -1:\n",
    "                magazine = magazine[:index] + magazine[index + 1:]   \n",
    "            else:\n",
    "                return False\n",
    "        return True\n",
    "\n",
    "# Test\n",
    "S = Solution()\n",
    "print(S.canConstruct(\"a\", \"b\"))\n",
    "print(S.canConstruct(\"aa\", \"ab\"))\n",
    "print(S.canConstruct(\"aa\", \"aab\"))"
   ]
  },
  {
   "cell_type": "markdown",
   "metadata": {},
   "source": [
    "#### problem 6.2 字符串转换整数（atoi）\n",
    "实现一个atoi函数，使其能将字符串转换成整数。<br>\n",
    "首先，该函数会根据需要丢弃无用的开头空格字符，直到寻找到第一个非空格的字符为止。<br>\n",
    "当寻找到的第一个非空字符为正或者负号时，则将该符号与之后面尽可能多的连续数字组合起来，作为该整数的正负号；假如第一个非空字符是数字，则直接将其与之后连续的数字字符组合起来，形成整数。<br>\n",
    "该字符串除了有效的整数部分之后也可能会存在多余的字符，这些字符可以被忽略，它们对于函数不应该造成影响。<br>\n",
    "注意：假如该字符串中的第一个非空格字符不是一个有效整数字符、字符串为空或字符串仅包含空白字符时，则你的函数不需要进行转换。<br>\n",
    "在任何情况下，若函数不能进行有效的转换时，请返回 0。<br>\n",
    "说明：<br>\n",
    "假设环境只能存储 32 位大小的有符号整数，那么其数值范围为 [−2^ 31,  2^ 31 − 1]。如果数值超过这个范围，请返回INT_MAX (2^ 31 − 1) 或 INT_MIN (−2^ 31) 。"
   ]
  },
  {
   "cell_type": "code",
   "execution_count": 4,
   "metadata": {},
   "outputs": [
    {
     "name": "stdout",
     "output_type": "stream",
     "text": [
      "42\n",
      "0\n",
      "-897\n",
      "-2147483648\n"
     ]
    }
   ],
   "source": [
    "import math\n",
    "class Solution:\n",
    "    def myAtoi(self, str: str) -> int:\n",
    "        str = str.strip()\n",
    "        flag = 1\n",
    "        max_value = int(math.pow(2, 31) - 1)\n",
    "        min_value = int(-math.pow(2, 31))\n",
    "        # 字符串为空\n",
    "        if len(str) == 0:\n",
    "            return 0\n",
    "        # 字符串全部由数字组成\n",
    "        if str.isdigit():\n",
    "            res = int(str)\n",
    "        # 字符串包含正负号\n",
    "        if str[0] == '-' or str[0] == '+':\n",
    "            if str[0] == '-':\n",
    "                flag = -1\n",
    "            str = str[1:]\n",
    "            \n",
    "        # 抽取有效数字位\n",
    "        if len(str) != 0 and str[0].isdigit():\n",
    "            s= \"\"       \n",
    "            for i in str:\n",
    "                if i.isdigit():\n",
    "                    s += i\n",
    "                else:\n",
    "                    break\n",
    "            if len(s) != 0:\n",
    "                res = int(s) * flag\n",
    "        else:\n",
    "            return 0\n",
    "        \n",
    "        #判断边界值\n",
    "        if res > max_value:\n",
    "            return max_value\n",
    "        elif res < min_value:\n",
    "            return min_value\n",
    "        else:\n",
    "            return res\n",
    "# Test\n",
    "S = Solution()\n",
    "print(S.myAtoi(\"42\"))\n",
    "print(S.myAtoi(\"word me 65\"))\n",
    "print(S.myAtoi(\"-897\"))\n",
    "print(S.myAtoi(\"-989792972638623263\"))"
   ]
  },
  {
   "cell_type": "markdown",
   "metadata": {},
   "source": [
    "#### problem 6.3 去除标签\n",
    "去除以下html文件中的标签，只显示文本信息。"
   ]
  },
  {
   "cell_type": "code",
   "execution_count": 7,
   "metadata": {},
   "outputs": [
    {
     "name": "stdout",
     "output_type": "stream",
     "text": [
      "\n",
      "岗位职责\n"
     ]
    }
   ],
   "source": [
    "# 正则表达式\n",
    "import re\n",
    "def removeTag(text):\n",
    "    sentence = text.split('\\n')\n",
    "    # 正则匹配以下内容 \\s 空格  \\n换行  <.*?>所有的标签 \n",
    "    pattern = re.compile(r'\\s|\\n|<.*?>', re.S)\n",
    "    for s in sentence:\n",
    "        s = pattern.sub('', s)\n",
    "        print(s)\n",
    "    \n",
    "removeTag('''<div>\n",
    "<p>岗位职责</p>''')"
   ]
  },
  {
   "cell_type": "code",
   "execution_count": 11,
   "metadata": {},
   "outputs": [
    {
     "name": "stdout",
     "output_type": "stream",
     "text": [
      "岗位职责\n",
      "完成推荐算法、数据统计、接口、后台等服务器端相关工作\n",
      "\n",
      "必备要求\n"
     ]
    }
   ],
   "source": [
    "# BeatifulSoup\n",
    "from bs4 import BeautifulSoup\n",
    "path = './test.html' \n",
    "with open(path, 'r') as f:\n",
    "    Soup = BeautifulSoup(f.read(), 'lxml')\n",
    "    sentences = Soup.select('p')\n",
    "    \n",
    "for sentence in sentences:\n",
    "    print(sentence.text)\n",
    " \n"
   ]
  },
  {
   "cell_type": "markdown",
   "metadata": {},
   "source": [
    "#### problem 6.4 Pandas 基础\n",
    "1. seriesA 以 seriesB为分组依据， 然后计算分组后的平均值\n",
    "2. 如何创建一个以‘2000-01-02’开始包含10个周六的TimeSeries"
   ]
  },
  {
   "cell_type": "code",
   "execution_count": 16,
   "metadata": {},
   "outputs": [
    {
     "name": "stdout",
     "output_type": "stream",
     "text": [
      "man      165.238095\n",
      "woman    164.444444\n",
      "dtype: float64\n"
     ]
    },
    {
     "data": {
      "text/plain": [
       "2000-01-08    7\n",
       "2000-01-15    3\n",
       "2000-01-22    6\n",
       "2000-01-29    8\n",
       "2000-02-05    1\n",
       "2000-02-12    6\n",
       "2000-02-19    8\n",
       "2000-02-26    7\n",
       "2000-03-04    4\n",
       "2000-03-11    3\n",
       "Freq: W-SAT, dtype: int64"
      ]
     },
     "execution_count": 16,
     "metadata": {},
     "output_type": "execute_result"
    }
   ],
   "source": [
    "# 1.\n",
    "import pandas as pd\n",
    "import numpy as np\n",
    "sex = pd.Series(np.random.choice(['man', 'woman'], 10))\n",
    "heights = pd.Series(np.linspace(150, 180, 10))\n",
    "print(heights.groupby(sex).mean())\n",
    "\n",
    "#2. W -- Weekly frequency\n",
    "pd.Series(np.random.randint(1,10,10), \n",
    "          pd.date_range('2000-01-02', \n",
    "                        periods=10, \n",
    "                        freq='W-SAT'))"
   ]
  }
 ],
 "metadata": {
  "kernelspec": {
   "display_name": "Python 3",
   "language": "python",
   "name": "python3"
  },
  "language_info": {
   "codemirror_mode": {
    "name": "ipython",
    "version": 3
   },
   "file_extension": ".py",
   "mimetype": "text/x-python",
   "name": "python",
   "nbconvert_exporter": "python",
   "pygments_lexer": "ipython3",
   "version": "3.6.5"
  }
 },
 "nbformat": 4,
 "nbformat_minor": 2
}
