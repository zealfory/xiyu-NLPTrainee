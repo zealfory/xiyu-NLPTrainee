{
 "cells": [
  {
   "cell_type": "markdown",
   "metadata": {},
   "source": [
    "### 2019-07-03"
   ]
  },
  {
   "cell_type": "markdown",
   "metadata": {},
   "source": [
    "#### problem 3.1 最长公共前缀\n",
    "编写一个函数来查找字符串数组中的最长公共前缀。\n",
    "如果不存在公共前缀，返回空字符串\"\"。"
   ]
  },
  {
   "cell_type": "code",
   "execution_count": 9,
   "metadata": {},
   "outputs": [
    {
     "name": "stdout",
     "output_type": "stream",
     "text": [
      "fl\n",
      "\n"
     ]
    }
   ],
   "source": [
    "def longestCommonPrefix(strs):\n",
    "    \"\"\"\n",
    "    :params strs: list[str]\n",
    "    :return str\n",
    "    \"\"\"\n",
    "    if len(strs) == 0:\n",
    "        return \"\"\n",
    "    \n",
    "    prefix = strs[0]\n",
    "    for i in range(1, len(strs)):\n",
    "        while strs[i].find(prefix) != 0:\n",
    "            prefix = prefix[:len(prefix) - 1]\n",
    "            \n",
    "    return prefix\n",
    "\n",
    "# Test\n",
    "print(longestCommonPrefix([\"flower\",\"flow\",\"flight\"]))\n",
    "print(longestCommonPrefix([\"dog\",\"rececar\",\"car\"]))"
   ]
  },
  {
   "cell_type": "markdown",
   "metadata": {},
   "source": [
    "#### problem 3.2 电话号码的字母组合\n",
    "给定一个仅包含数字2-9的字符串，返回所有它能表示的字母组合。给出数字到字母的映射如下（与电话按键相同）。注意1不对应任何字母。"
   ]
  },
  {
   "cell_type": "code",
   "execution_count": 10,
   "metadata": {},
   "outputs": [
    {
     "name": "stdout",
     "output_type": "stream",
     "text": [
      "['ad', 'ae', 'af', 'bd', 'be', 'bf', 'cd', 'ce', 'cf']\n"
     ]
    }
   ],
   "source": [
    "def phoneNumberCombination(s):\n",
    "    \"\"\"\n",
    "    :params s: str\n",
    "    :return list[str]\n",
    "    \"\"\"\n",
    "    if len(s) == 0:\n",
    "        return []\n",
    "    results = []\n",
    "    mapping = {'2': ['a', 'b', 'c'], '3': ['d', 'e', 'f'], '4': ['g', 'h', 'i'], \n",
    "               '5': ['j', 'k', 'l'], '6': ['m', 'n', 'o'], '7':['p', 'q', 'r', 's'],\n",
    "              '8': ['t', 'u', 'v'], '9': ['w', 'x', 'y', 'z']}\n",
    "\n",
    "    def back_track(combination, digits):\n",
    "        if len(digits) == 0:\n",
    "            results.append(combination)\n",
    "        else:\n",
    "            for item in mapping[digits[0]]:\n",
    "                back_track(combination + item, digits[1:])\n",
    "            \n",
    "    back_track(\"\", s)  \n",
    "    return results\n",
    "\n",
    "# Test\n",
    "print(phoneNumberCombination(\"23\"))\n",
    "        "
   ]
  },
  {
   "cell_type": "markdown",
   "metadata": {},
   "source": [
    "#### problem 3.3 交错字符串\n",
    "给定三个字符串s1,s2,s3,验证s3是否是由s1和s2交错组成的。"
   ]
  },
  {
   "cell_type": "code",
   "execution_count": 22,
   "metadata": {},
   "outputs": [
    {
     "name": "stdout",
     "output_type": "stream",
     "text": [
      "True\n",
      "False\n"
     ]
    }
   ],
   "source": [
    "# Method 1. 回溯\n",
    "def isInterleave(s1, s2, s3):\n",
    "    \"\"\"\n",
    "    :params s1,s2,s3: str\n",
    "    :return boolean\n",
    "    \"\"\"\n",
    "    ans = []\n",
    "    if len(s1) + len(s2) != len(s3):\n",
    "        return False\n",
    "    def back_track(s1, s1_p, s2, s2_p, res, s3):\n",
    "        if res == s3 and s1_p == len(s1) and s2_p == len(s2):\n",
    "            ans.append(True)\n",
    "        \n",
    "        if s1_p < len(s1):\n",
    "            ans.append(back_track(s1, s1_p + 1, s2, s2_p, res + s1[s1_p], s3))\n",
    "        if s2_p < len(s2):\n",
    "            ans.append(back_track(s1, s1_p, s2, s2_p + 1, res + s2[s2_p], s3))\n",
    "            \n",
    "    back_track(s1, 0, s2, 0, \"\", s3)\n",
    "    return True in ans\n",
    "    \n",
    "\n",
    "# Test\n",
    "print(isInterleave(\"aabcc\", \"dbbca\", \"aadbbcbcac\"))\n",
    "print(isInterleave(\"aabcc\", \"dbbca\", \"aadbbbaccc\"))\n",
    "    "
   ]
  },
  {
   "cell_type": "code",
   "execution_count": 24,
   "metadata": {},
   "outputs": [
    {
     "name": "stdout",
     "output_type": "stream",
     "text": [
      "True\n",
      "False\n"
     ]
    }
   ],
   "source": [
    "# Method 2. 动态规划\n",
    "def isInterleave(s1, s2, s3):\n",
    "    \"\"\"\n",
    "    :params s1,s2,s3: str\n",
    "    :return boolean\n",
    "    \"\"\"\n",
    "    s1_len = len(s1)\n",
    "    s2_len = len(s2)\n",
    "    s3_len = len(s3)\n",
    "    if s1_len + s2_len != s3_len:\n",
    "        return False\n",
    "    matrix = [[False for i in range(s1_len + 1)] for j in range(s2_len + 1)]\n",
    "    \n",
    "    for i in range(s1_len + 1):\n",
    "        for j in range(s2_len +1):\n",
    "            if i == 0 and j == 0:\n",
    "                matrix[i][j] = True\n",
    "            elif i == 0:\n",
    "                matrix[i][j] = matrix[i][j - 1] and s2[j - 1] == s3[i + j - 1]\n",
    "            elif j == 0:\n",
    "                matrix[i][j] = matrix[i - 1][j] and s1[i - 1] == s3[i + j - 1]\n",
    "            else:\n",
    "                matrix[i][j] = (matrix[i][j - 1] and s2[j - 1] == s3[i + j - 1]) or \\\n",
    "                (matrix[i - 1][j] and s1[i - 1] == s3[i + j - 1])\n",
    "                \n",
    "    return matrix[s1_len][s2_len]\n",
    "\n",
    "# Test\n",
    "print(isInterleave(\"aabcc\", \"dbbca\", \"aadbbcbcac\"))\n",
    "print(isInterleave(\"aabcc\", \"dbbca\", \"aadbbbaccc\"))"
   ]
  },
  {
   "cell_type": "markdown",
   "metadata": {},
   "source": [
    "#### problem 3.4 第一个只出现一次的字符\n",
    "在一个字符串（1<=字符串长度<=10000,全部由字母组成）中找到第一个只出现一次的字符，并返回它的位置。"
   ]
  },
  {
   "cell_type": "code",
   "execution_count": 42,
   "metadata": {},
   "outputs": [
    {
     "name": "stdout",
     "output_type": "stream",
     "text": [
      "['b', 5]\n",
      "['x', 2]\n",
      "Not Find\n"
     ]
    }
   ],
   "source": [
    "def firstOnce(s):\n",
    "    \"\"\"\n",
    "    :params s: str\n",
    "    :return [char, location]: list\n",
    "    \"\"\"\n",
    "    dict_char = {}\n",
    "    loc = -1\n",
    "    flag = False\n",
    "    for i in s:\n",
    "        if i not in dict_char:\n",
    "            dict_char[i] = 1\n",
    "        else:\n",
    "            dict_char[i] += 1\n",
    "    for index, value in dict_char.items():\n",
    "        if value != 1:\n",
    "            continue\n",
    "        else:\n",
    "            loc = s.find(index)\n",
    "            break\n",
    "            \n",
    "    if loc != -1:\n",
    "        return [s[loc], loc + 1]\n",
    "    else:\n",
    "        return \"Not Find\"\n",
    "        \n",
    "print(firstOnce(\"aannbssd\"))\n",
    "print(firstOnce(\"axa\"))\n",
    "print(firstOnce(\"\"))\n",
    "            "
   ]
  },
  {
   "cell_type": "markdown",
   "metadata": {},
   "source": [
    "#### problem 3.5 Pandas 基础\n",
    "1. series中计数排名前2的元素\n",
    "2. 如何将数字系列分成10个相同大小的组\n",
    "3. 如何将系列中每个元素的第一个字符转换为大写"
   ]
  },
  {
   "cell_type": "code",
   "execution_count": 51,
   "metadata": {},
   "outputs": [
    {
     "name": "stdout",
     "output_type": "stream",
     "text": [
      "Q1.==============================\n",
      "Int64Index([5, 3], dtype='int64')\n",
      "Q2.==============================\n",
      "0     1st\n",
      "1     6th\n",
      "2     8th\n",
      "3     1st\n",
      "4    10th\n",
      "dtype: category\n",
      "Categories (10, object): [1st < 2nd < 3rd < 4th ... 7th < 8th < 9th < 10th]\n",
      "Q3.==============================\n",
      "0        We\n",
      "1      Want\n",
      "2        To\n",
      "3        Do\n",
      "4    Better\n",
      "dtype: object\n"
     ]
    }
   ],
   "source": [
    "import pandas as pd\n",
    "import numpy as np\n",
    "# 1.\n",
    "print(\"Q1.==============================\")\n",
    "series1 = pd.Series([2,3,3,4,5,23,5])\n",
    "v = series1.value_counts().index[:2]\n",
    "print(v)\n",
    "# 2.\n",
    "print(\"Q2.==============================\")\n",
    "series2 = pd.Series(np.random.random(100))\n",
    "groups = pd.qcut(series2, q=[0, .1, .2, .3, .4, .5, .6, .7, .8, .9, 1], \n",
    "        labels=['1st', '2nd', '3rd', '4th', '5th', '6th', '7th', '8th', '9th', '10th'])\n",
    "print(groups.head())\n",
    "# 3.\n",
    "print(\"Q3.==============================\")\n",
    "series3 = pd.Series(['we','want','to','do','better'])\n",
    "print(series3.map(lambda x: x.title()))"
   ]
  }
 ],
 "metadata": {
  "kernelspec": {
   "display_name": "Python 3",
   "language": "python",
   "name": "python3"
  },
  "language_info": {
   "codemirror_mode": {
    "name": "ipython",
    "version": 3
   },
   "file_extension": ".py",
   "mimetype": "text/x-python",
   "name": "python",
   "nbconvert_exporter": "python",
   "pygments_lexer": "ipython3",
   "version": "3.6.5"
  }
 },
 "nbformat": 4,
 "nbformat_minor": 2
}
