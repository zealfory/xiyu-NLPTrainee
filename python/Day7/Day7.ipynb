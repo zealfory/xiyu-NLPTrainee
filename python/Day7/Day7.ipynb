{
 "cells": [
  {
   "cell_type": "markdown",
   "metadata": {},
   "source": [
    "### 2019-07-10"
   ]
  },
  {
   "cell_type": "markdown",
   "metadata": {},
   "source": [
    "#### problem 7.1 无重复字符的最长子串\n",
    "给定一个字符串，请找出其中不含有重复字符的最长子串的长度。<br>\n",
    "注：子串长度，不是子序列长度。"
   ]
  },
  {
   "cell_type": "code",
   "execution_count": 1,
   "metadata": {},
   "outputs": [
    {
     "name": "stdout",
     "output_type": "stream",
     "text": [
      "3\n",
      "1\n",
      "3\n"
     ]
    }
   ],
   "source": [
    "class Solution:\n",
    "    def lengthOfLongestSubstring(self, s: str) -> int:\n",
    "        ans = 0\n",
    "        i = 0\n",
    "        j = 0\n",
    "        s_set = set()\n",
    "        while i < len(s) and j < len(s):\n",
    "            if s[j] not in s_set:\n",
    "                s_set.add(s[j])\n",
    "                j = j + 1\n",
    "                ans = max(ans, j - i)\n",
    "            else:\n",
    "                s_set.remove(s[i])\n",
    "                i = i + 1\n",
    "        return ans        \n",
    "\n",
    "# Test\n",
    "S = Solution()\n",
    "print(S.lengthOfLongestSubstring(\"abcabcbb\"))\n",
    "print(S.lengthOfLongestSubstring(\"bbbbb\"))\n",
    "print(S.lengthOfLongestSubstring(\"pwwkew\"))"
   ]
  },
  {
   "cell_type": "markdown",
   "metadata": {},
   "source": [
    "#### problem 7.2 串联所有单词的子串\n",
    "给定一个字符串s和一些长度相同的单词words。找出s中恰好可以由words中所有单词串联形成的子串的起始位置。<br>\n",
    "注意子串要与words中的单词完全匹配，中间不能有其他字符，但不需要考虑words中单词串联的顺序。"
   ]
  },
  {
   "cell_type": "code",
   "execution_count": 2,
   "metadata": {},
   "outputs": [
    {
     "name": "stdout",
     "output_type": "stream",
     "text": [
      "[0, 9]\n",
      "[]\n"
     ]
    }
   ],
   "source": [
    "from itertools import permutations\n",
    "import re\n",
    "class Solution:\n",
    "    def findSubstring(self, s, words):\n",
    "        if len(s) == 0 or len(words) == 0:\n",
    "            return []\n",
    "        permutation = list(permutations(words, len(words)))\n",
    "        #print(permutation)\n",
    "        ans = []\n",
    "        for word in words:\n",
    "            if s.find(word) == -1:\n",
    "                return []\n",
    "\n",
    "        for p in permutation:\n",
    "            temp = \"\"\n",
    "            for i in p:\n",
    "                temp += i\n",
    "            #print(temp)\n",
    "            indice = [m.start() for m in re.finditer(temp, s)]\n",
    "            for j in indice:\n",
    "                ans.append(j)\n",
    "\n",
    "                \n",
    "        return list(set(ans))\n",
    "\n",
    "# Test\n",
    "S = Solution()\n",
    "print(S.findSubstring(\"barfoothefoobarman\", [\"foo\", \"bar\"]))\n",
    "print(S.findSubstring(\"wordgoodgoodgoodbestword\", [\"word\", \"good\", \"best\", \"word\"]))"
   ]
  },
  {
   "cell_type": "markdown",
   "metadata": {},
   "source": [
    "#### problem 7.3 最小覆盖子串\n",
    "给定一个字符串S、一个字符串T，在字符串S里面找出：包含T所有字母的最小子串。<br>\n",
    "如果S中不存这样的子串，则返回空字符串“”。<br>\n",
    "如果S中存在这样的子串，我们保证它是唯一的答案。"
   ]
  },
  {
   "cell_type": "code",
   "execution_count": 19,
   "metadata": {},
   "outputs": [
    {
     "name": "stdout",
     "output_type": "stream",
     "text": [
      "BANC\n"
     ]
    }
   ],
   "source": [
    "from collections import Counter\n",
    "class Solution:\n",
    "    def minWindow(self, s, t):\n",
    "\n",
    "        if len(t) == 0 or len(s) == 0:\n",
    "            return \"\"\n",
    "        dict_t = Counter(t)\n",
    "        required = len(dict_t)\n",
    "        l, r = 0, 0\n",
    "        formed = 0\n",
    "        window_counts = {}\n",
    "        ans = float(\"inf\"), None, None\n",
    "        while r < len(s):\n",
    "            character = s[r]\n",
    "            window_counts[character] = window_counts.get(character, 0) + 1\n",
    "            if character in dict_t and window_counts[character] == dict_t[character]:\n",
    "                formed += 1\n",
    "            while l <= r and formed == required:\n",
    "                character = s[l]\n",
    "                if r - l + 1 < ans[0]:\n",
    "                    ans = (r - l + 1, l, r)\n",
    "                window_counts[character] -= 1\n",
    "                if character in dict_t and window_counts[character] < dict_t[character]:\n",
    "                    formed -= 1\n",
    "                l += 1    \n",
    "            r += 1\n",
    "        if ans[0] == float(\"inf\"):\n",
    "            return \"\"\n",
    "        else:\n",
    "            return s[ans[1]: ans[2] + 1]\n",
    "        \n",
    "# Test\n",
    "S = Solution()\n",
    "print(S.minWindow(\"ADOBECODEBANC\",\"ABC\"))"
   ]
  },
  {
   "cell_type": "markdown",
   "metadata": {},
   "source": [
    "#### problem 7.4 Pandas 基础\n",
    "1. 如何将numpy数组转换为指定形状的dataframe\n",
    "2. 从dataframe中获取c列最大值所在的行号"
   ]
  },
  {
   "cell_type": "code",
   "execution_count": 18,
   "metadata": {},
   "outputs": [
    {
     "name": "stdout",
     "output_type": "stream",
     "text": [
      "   0  1  2\n",
      "0  7  9  6\n",
      "1  5  5  4\n",
      "2  3  3  6\n",
      "3  3  5  8\n",
      "4  8  7  1\n",
      "5  9  2  9\n",
      "   a   b   c\n",
      "0  0  10  20\n",
      "1  1  11  21\n",
      "2  2  12  22\n",
      "3  3  13  23\n",
      "4  4  14  24\n",
      "5  5  15  25\n",
      "6  6  16  26\n",
      "7  7  17  27\n",
      "8  8  18  28\n",
      "9  9  19  29\n",
      "(array([9]),)\n"
     ]
    }
   ],
   "source": [
    "import pandas as pd\n",
    "import numpy as np\n",
    "#1.\n",
    "ser = pd.Series(np.random.randint(1,10,18))\n",
    "df = pd.DataFrame(ser.values.reshape(6,3))\n",
    "print(df)\n",
    "\n",
    "#2.\n",
    "\n",
    "df1=pd.DataFrame(\n",
    "    {\n",
    "        'a':range(10),\n",
    "        'b':range(10,20),\n",
    "        'c':range(20,30)\n",
    "    }\n",
    ")\n",
    "print(df1)\n",
    "print(np.where(df1.c == np.max(df1.c)))"
   ]
  }
 ],
 "metadata": {
  "kernelspec": {
   "display_name": "Python 3",
   "language": "python",
   "name": "python3"
  },
  "language_info": {
   "codemirror_mode": {
    "name": "ipython",
    "version": 3
   },
   "file_extension": ".py",
   "mimetype": "text/x-python",
   "name": "python",
   "nbconvert_exporter": "python",
   "pygments_lexer": "ipython3",
   "version": "3.6.5"
  }
 },
 "nbformat": 4,
 "nbformat_minor": 2
}
