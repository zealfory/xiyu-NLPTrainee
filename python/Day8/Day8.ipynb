{
 "cells": [
  {
   "cell_type": "markdown",
   "metadata": {},
   "source": [
    "### 2019-07-11"
   ]
  },
  {
   "cell_type": "markdown",
   "metadata": {},
   "source": [
    "#### problem 8.1 基本计算器\n",
    "实现一个基本的计算器来计算一个简单的字符串表达式的值。<br>\n",
    "字符串表达式仅包含非负整数，+，-，*，/ 四种运算符和空格 。整数除法仅保留整数部分。"
   ]
  },
  {
   "cell_type": "code",
   "execution_count": 2,
   "metadata": {},
   "outputs": [
    {
     "name": "stdout",
     "output_type": "stream",
     "text": [
      "7\n",
      "1\n",
      "5\n"
     ]
    }
   ],
   "source": [
    "class Solution:\n",
    "    def calculate(self, s: str) -> int:\n",
    "        operators = []\n",
    "        flag = [1]\n",
    "        operator = \"\"\n",
    "        ans = 0\n",
    "        for char in s:\n",
    "            # 跳过空字符\n",
    "            if char == \" \":\n",
    "                continue\n",
    "            # 遇到加号将左操作数加入结果序列\n",
    "            elif char == \"+\" and operator != \"\":\n",
    "                operators.append(operator)\n",
    "                operator = \"\"\n",
    "                # 符号位 置1\n",
    "                flag.append(1)\n",
    "            # 遇到减号\n",
    "            elif char == \"-\" and operator != \"\":\n",
    "                operators.append(operator)\n",
    "                operator = \"\"\n",
    "                # 符号位 置-1\n",
    "                flag.append(-1)\n",
    "            # 遇到数字\n",
    "            else:\n",
    "                operator += char\n",
    "        # 末尾的操作数        \n",
    "        operators.append(operator)\n",
    "        \n",
    "        for i, o in enumerate(operators):\n",
    "            ans += flag[i] * self.prod_div(o)\n",
    "            #print(ans)\n",
    "        return ans\n",
    "                \n",
    "    def prod_div(self, s):\n",
    "        \"\"\"product and division\"\"\"\n",
    "        ans = 1\n",
    "        operator = \"\"\n",
    "        # 记录上一符号位\n",
    "        last = \"*\"\n",
    "        for i, char in enumerate(s):\n",
    "            # 遇到符号或末尾\n",
    "            if char == \"*\" or char == \"/\" or i == len(s) - 1:\n",
    "                num = int(operator) if i != len(s) - 1 else int(operator + char)\n",
    "                if last == \"*\":\n",
    "                    ans *= num\n",
    "                elif last == \"/\":\n",
    "                    ans //= num\n",
    "                operator = \"\"\n",
    "                last = char\n",
    "            else:\n",
    "                operator += char\n",
    "        return ans\n",
    "    \n",
    "# Test\n",
    "S = Solution()\n",
    "print(S.calculate(\"3+2*2\"))\n",
    "print(S.calculate(\"3/2\"))\n",
    "print(S.calculate(\"3+5/2\"))"
   ]
  },
  {
   "cell_type": "markdown",
   "metadata": {},
   "source": [
    "#### problem 8.2 整数转罗马数字\n",
    "罗马数字包含以下七种字符： I， V， X， L，C，D 和 M。<br>\n",
    "\n",
    "字符          数值<br>\n",
    "I             1<br>\n",
    "V             5<br>\n",
    "X             10<br>\n",
    "L             50<br>\n",
    "C             100<br>\n",
    "D             500<br>\n",
    "M             1000<br>\n",
    "例如， 罗马数字 2 写做 II ，即为两个并列的 1。12 写做 XII ，即为 X + II 。 27 写做  XXVII, 即为 XX + V + II 。<br>\n",
    "\n",
    "通常情况下，罗马数字中小的数字在大的数字的右边。但也存在特例，例如 4 不写做 IIII，而是 IV。数字 1 在数字 5 的左边，所表示的数等于大数 5 减小数 1 得到的数值 4 。同样地，数字 9 表示为 IX。这个特殊的规则只适用于以下六种情况：<br>\n",
    "\n",
    "I 可以放在 V (5) 和 X (10) 的左边，来表示 4 和 9。<br>\n",
    "X 可以放在 L (50) 和 C (100) 的左边，来表示 40 和 90。 <br>\n",
    "C 可以放在 D (500) 和 M (1000) 的左边，来表示 400 和 900。<br>\n",
    "给定一个整数，将其转为罗马数字。输入确保在 1 到 3999 的范围内。<br>"
   ]
  },
  {
   "cell_type": "code",
   "execution_count": 3,
   "metadata": {},
   "outputs": [
    {
     "name": "stdout",
     "output_type": "stream",
     "text": [
      "III\n",
      "IV\n",
      "IX\n",
      "LVIII\n",
      "MCMXCIV\n"
     ]
    }
   ],
   "source": [
    "class Solution:\n",
    "    def intToRoman(self, num: int) -> str:\n",
    "        mapping = {1000: \"M\", 900: \"CM\", 500: \"D\", 400: \"CD\", 100: \"C\", 90: \"XC\",\n",
    "                  50: \"L\", 40: \"XL\", 10: \"X\", 9: \"IX\", 5: \"V\", 4: \"IV\", 1: \"I\"}\n",
    "        s = \"\"\n",
    "        while num > 0:\n",
    "            for i, r in mapping.items():\n",
    "                if num >= i:\n",
    "                    s += r\n",
    "                    #print(s)\n",
    "                    num -= i\n",
    "                    break\n",
    "        return s\n",
    "    \n",
    "# Test\n",
    "S = Solution()\n",
    "print(S.intToRoman(3))\n",
    "print(S.intToRoman(4))\n",
    "print(S.intToRoman(9))\n",
    "print(S.intToRoman(58))\n",
    "print(S.intToRoman(1994))"
   ]
  },
  {
   "cell_type": "markdown",
   "metadata": {},
   "source": [
    "#### problem 8.3 有效数字\n",
    "验证给定的字符串是否可以解释为十进制数字。<br>\n",
    "可能存在于有效十进制数字中的字符列表：<br>\n",
    "数字 0-9<br>\n",
    "指数 - \"e\"<br>\n",
    "正/负号 - \"+\"/\"-\"<br>\n",
    "小数点 - \".\"<br>\n",
    "当然，在输入中，这些字符的上下文也很重要。<br>"
   ]
  },
  {
   "cell_type": "code",
   "execution_count": 5,
   "metadata": {},
   "outputs": [
    {
     "name": "stdout",
     "output_type": "stream",
     "text": [
      "True\n",
      "True\n",
      "False\n",
      "True\n",
      "True\n",
      "False\n"
     ]
    }
   ],
   "source": [
    "import re\n",
    "class Solution:\n",
    "    def isNumber(self, s: str) -> bool:\n",
    "        pattern = re.compile(r'^[\\+\\-]?(\\d+\\.\\d+|\\.\\d+|\\d+\\.|\\d+)(e[\\+\\-]?\\d+)?$')\n",
    "        return True if len(re.findall(pattern, s.strip())) else False\n",
    "\n",
    "# Test\n",
    "S = Solution()\n",
    "print(S.isNumber(\"0\"))\n",
    "print(S.isNumber(\" 0.1 \"))\n",
    "print(S.isNumber(\"abc\"))\n",
    "print(S.isNumber(\"2e10\"))\n",
    "print(S.isNumber(\"-90e3\"))\n",
    "print(S.isNumber(\"--6\"))"
   ]
  }
 ],
 "metadata": {
  "kernelspec": {
   "display_name": "Python 3",
   "language": "python",
   "name": "python3"
  },
  "language_info": {
   "codemirror_mode": {
    "name": "ipython",
    "version": 3
   },
   "file_extension": ".py",
   "mimetype": "text/x-python",
   "name": "python",
   "nbconvert_exporter": "python",
   "pygments_lexer": "ipython3",
   "version": "3.6.5"
  }
 },
 "nbformat": 4,
 "nbformat_minor": 2
}
