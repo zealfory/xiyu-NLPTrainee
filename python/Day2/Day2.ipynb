{
 "cells": [
  {
   "cell_type": "markdown",
   "metadata": {},
   "source": [
    "### Day 2019-07-02"
   ]
  },
  {
   "cell_type": "markdown",
   "metadata": {},
   "source": [
    "#### problem 2.1 最长回文子串\n",
    "给定一个字符串s，找到s中最长的回文子串。可以假设s的最大长度为1000."
   ]
  },
  {
   "cell_type": "code",
   "execution_count": 60,
   "metadata": {},
   "outputs": [
    {
     "name": "stdout",
     "output_type": "stream",
     "text": [
      "aba\n",
      "bb\n",
      "a\n"
     ]
    }
   ],
   "source": [
    "def longestPalindrome(s: str) -> str:\n",
    "    s_len = len(s)\n",
    "    # 情况1:最长回文子串长度为0或s_len\n",
    "    if s_len == 0 or s == s[::-1]:\n",
    "        return s\n",
    "        \n",
    "    # 初始化回文字符判定矩阵\n",
    "    matr= [[False for i in range(s_len)] for i in range(s_len)]\n",
    "    start = 0\n",
    "        \n",
    "    # 情况2:最长回文子串长度为1\n",
    "    longest_len = 1\n",
    "        \n",
    "        \n",
    "    for i in range(s_len):\n",
    "        matr[i][i] = True\n",
    "            \n",
    "            \n",
    "    # 情况3:最长回文子串长度为2 - （s_len-1）    \n",
    "    for j in range(2, s_len):\n",
    "        for i in range(j):\n",
    "                \n",
    "            # 比较相邻字符\n",
    "            if i == j-1 and s[i] == s[j]:\n",
    "                matr[i][j] = True\n",
    "                start = i\n",
    "                longest_len = 2\n",
    "                    \n",
    "            # 不相邻字符，比较其子串\n",
    "            elif matr[i+1][j-1] and s[i] == s[j]:\n",
    "                matr[i][j] = True\n",
    "                start = i\n",
    "                longest_len = j - i + 1\n",
    "        \n",
    "    return s[start:start + longest_len]\n",
    "\n",
    "\n",
    "print(longestPalindrome(\"babad\"))\n",
    "print(longestPalindrome('cbbd')) \n",
    "print(longestPalindrome('ac')) \n",
    "         "
   ]
  },
  {
   "cell_type": "markdown",
   "metadata": {},
   "source": [
    "#### problem 2.2 回文子串\n",
    "给定一个字符串，计算这个字符串中有多少回文子串。\n",
    "具有不同开始位置或结束位置的子串，即使是由相同的字符组成，也会被计为是不同的子串。"
   ]
  },
  {
   "cell_type": "code",
   "execution_count": 24,
   "metadata": {},
   "outputs": [
    {
     "name": "stdout",
     "output_type": "stream",
     "text": [
      "3\n",
      "6\n"
     ]
    }
   ],
   "source": [
    "def countPalindrome(s):\n",
    "    s_len = len(s)\n",
    "    matr = [[False for i in range(s_len) ]for i in range(s_len)]\n",
    "    counter = 0\n",
    "    for i in range(s_len):\n",
    "        matr[i][i] = True\n",
    "        counter += 1\n",
    "            \n",
    "    for j in range(1, s_len):\n",
    "        for i in range(j):\n",
    "            if i == j - 1 and s[i] == s[j]:\n",
    "                matr[i][j] = True\n",
    "                counter += 1\n",
    "            if s[i] == s[j] and matr[i + 1][j - 1]:\n",
    "                matr[i][j] = True\n",
    "                counter += 1\n",
    "    return counter\n",
    "\n",
    "print(countPalindrome(\"abc\"))\n",
    "print(countPalindrome(\"aaa\"))"
   ]
  },
  {
   "cell_type": "markdown",
   "metadata": {},
   "source": [
    "#### problem 2.3 分割回文串\n",
    "给定一个字符串s，将s分割成一些子串，使每个子串都是回文串。\n",
    "返回符合要求的最少分割次数。"
   ]
  },
  {
   "cell_type": "code",
   "execution_count": 1,
   "metadata": {},
   "outputs": [
    {
     "name": "stdout",
     "output_type": "stream",
     "text": [
      "1\n"
     ]
    }
   ],
   "source": [
    "def minCut(s: str) -> int:\n",
    "    s_len = len(s)\n",
    "\n",
    "    cut_result = []\n",
    "    if s_len <= 1:\n",
    "        return 0\n",
    "    def back_track(start = 0, temp = []):\n",
    "        if start >= len(s):\n",
    "            cut_result.append(len(temp) - 1)\n",
    "        for end in range(start + 1, s_len + 1):\n",
    "            cut_s = s[start:end]\n",
    "            if cut_s == cut_s[::-1]:\n",
    "                back_track(end, temp + [cut_s])\n",
    "                    \n",
    "    back_track()\n",
    "\n",
    "    return min(cut_result)\n",
    "\n",
    "print(minCut(\"aab\"))"
   ]
  },
  {
   "cell_type": "markdown",
   "metadata": {},
   "source": [
    "#### problem 2.4 字符串的排列\n",
    "输入一个字符串，按字典序打印出该字符串中字符的所有排列。例如输入字符串abc，则打印出由字符a，b，c所能排列出来的所有字符串abc,acb,bac,bca,cab,cba."
   ]
  },
  {
   "cell_type": "code",
   "execution_count": 2,
   "metadata": {},
   "outputs": [
    {
     "name": "stdout",
     "output_type": "stream",
     "text": [
      "['abc', 'acb', 'bac', 'bca', 'cab', 'cba']\n",
      "['aabc', 'aacb', 'abac', 'abca', 'acab', 'acba', 'baac', 'baca', 'bcaa', 'caab', 'caba', 'cbaa']\n"
     ]
    }
   ],
   "source": [
    "def rankStr(s: str) -> set:\n",
    "    s_len = len(s)\n",
    "    s_list = sorted(list(s))\n",
    "    temp = []\n",
    "    results = []\n",
    "    def back_track(start = 0):\n",
    "        if start >= s_len:\n",
    "            results.append(\"\".join(s_list[:]))\n",
    "            \n",
    "        for i in range(start, s_len):\n",
    "            temp = s_list[start]\n",
    "            s_list[start] = s_list[i]\n",
    "            s_list[i] = temp\n",
    "            back_track(start + 1)\n",
    "            temp = s_list[start]\n",
    "            s_list[start] = s_list[i]\n",
    "            s_list[i] = temp\n",
    "    back_track()  \n",
    "    return sorted(set(results))\n",
    "\n",
    "print(rankStr(\"abc\"))\n",
    "print(rankStr(\"aabc\"))"
   ]
  },
  {
   "cell_type": "markdown",
   "metadata": {},
   "source": [
    "#### problem 2.5 Pandas 基础\n",
    "1. 两个series的并集\n",
    "2. 两个series的非共有元素\n",
    "3. 如何获得series的最小值，第25百分位数，中位数，第75位和最大值？"
   ]
  },
  {
   "cell_type": "code",
   "execution_count": 3,
   "metadata": {},
   "outputs": [
    {
     "name": "stdout",
     "output_type": "stream",
     "text": [
      "0    1\n",
      "1    2\n",
      "2    3\n",
      "3    4\n",
      "4    5\n",
      "5    6\n",
      "dtype: int64\n",
      "0    3\n",
      "1    6\n",
      "dtype: int64\n",
      "0    1\n",
      "1    2\n",
      "3    4\n",
      "4    5\n",
      "dtype: int64\n",
      "count    4.000000\n",
      "mean     3.500000\n",
      "std      2.081666\n",
      "min      1.000000\n",
      "25%      2.500000\n",
      "50%      3.500000\n",
      "75%      4.500000\n",
      "max      6.000000\n",
      "dtype: float64\n"
     ]
    }
   ],
   "source": [
    "import pandas as pd\n",
    "import numpy as np\n",
    "seriesA = pd.Series([1,3,4,6])\n",
    "seriesB = pd.Series([2,3,5,6])\n",
    "#1.并集\n",
    "seriesC = pd.Series(np.union1d(seriesA, seriesB))\n",
    "print(seriesC)\n",
    "#交集\n",
    "seriesD = pd.Series(np.intersect1d(seriesA, seriesB))\n",
    "print(seriesD)\n",
    "#2.\n",
    "print(seriesC[~seriesC.isin(seriesD)])\n",
    "#3.\n",
    "print(seriesA.describe())"
   ]
  }
 ],
 "metadata": {
  "kernelspec": {
   "display_name": "Python 3",
   "language": "python",
   "name": "python3"
  },
  "language_info": {
   "codemirror_mode": {
    "name": "ipython",
    "version": 3
   },
   "file_extension": ".py",
   "mimetype": "text/x-python",
   "name": "python",
   "nbconvert_exporter": "python",
   "pygments_lexer": "ipython3",
   "version": "3.6.5"
  }
 },
 "nbformat": 4,
 "nbformat_minor": 2
}
